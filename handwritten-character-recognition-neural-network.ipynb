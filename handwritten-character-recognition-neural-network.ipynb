{
 "cells": [
  {
   "cell_type": "markdown",
   "id": "b18f6001",
   "metadata": {},
   "source": [
    "# 手写字符识别神经网络\n",
    "https://aibydoing.com/notebooks/chapter06-03-challenge-handwritten-character-recognition-neural-network"
   ]
  },
  {
   "cell_type": "code",
   "execution_count": 1,
   "id": "923ed959",
   "metadata": {},
   "outputs": [],
   "source": [
    "import numpy as np\n",
    "from sklearn import datasets\n",
    "\n",
    "digits = datasets.load_digits()"
   ]
  },
  {
   "cell_type": "code",
   "execution_count": 19,
   "id": "a650df81",
   "metadata": {},
   "outputs": [
    {
     "data": {
      "text/plain": [
       "0"
      ]
     },
     "execution_count": 19,
     "metadata": {},
     "output_type": "execute_result"
    }
   ],
   "source": [
    "##第一个字符图像对应的数字：\n",
    "digits.target[0]\n"
   ]
  },
  {
   "cell_type": "code",
   "execution_count": 15,
   "id": "d3ae8cfc",
   "metadata": {},
   "outputs": [
    {
     "data": {
      "text/plain": [
       "array([[ 0.,  0.,  5., 13.,  9.,  1.,  0.,  0.],\n",
       "       [ 0.,  0., 13., 15., 10., 15.,  5.,  0.],\n",
       "       [ 0.,  3., 15.,  2.,  0., 11.,  8.,  0.],\n",
       "       [ 0.,  4., 12.,  0.,  0.,  8.,  8.,  0.],\n",
       "       [ 0.,  5.,  8.,  0.,  0.,  9.,  8.,  0.],\n",
       "       [ 0.,  4., 11.,  0.,  1., 12.,  7.,  0.],\n",
       "       [ 0.,  2., 14.,  5., 10., 12.,  0.,  0.],\n",
       "       [ 0.,  0.,  6., 13., 10.,  0.,  0.,  0.]])"
      ]
     },
     "execution_count": 15,
     "metadata": {},
     "output_type": "execute_result"
    }
   ],
   "source": [
    "## 第一个字符图像对应的灰度值矩阵：\n",
    "digits.images[0]\n"
   ]
  },
  {
   "cell_type": "code",
   "execution_count": 16,
   "id": "d7ee55f7",
   "metadata": {},
   "outputs": [
    {
     "data": {
      "text/plain": [
       "array([ 0.,  0.,  5., 13.,  9.,  1.,  0.,  0.,  0.,  0., 13., 15., 10.,\n",
       "       15.,  5.,  0.,  0.,  3., 15.,  2.,  0., 11.,  8.,  0.,  0.,  4.,\n",
       "       12.,  0.,  0.,  8.,  8.,  0.,  0.,  5.,  8.,  0.,  0.,  9.,  8.,\n",
       "        0.,  0.,  4., 11.,  0.,  1., 12.,  7.,  0.,  0.,  2., 14.,  5.,\n",
       "       10., 12.,  0.,  0.,  0.,  0.,  6., 13., 10.,  0.,  0.,  0.])"
      ]
     },
     "execution_count": 16,
     "metadata": {},
     "output_type": "execute_result"
    }
   ],
   "source": [
    "## 将矩阵扁平化为行向量：\n",
    "digits.data[0]\n"
   ]
  },
  {
   "cell_type": "code",
   "execution_count": 2,
   "id": "d40745c9",
   "metadata": {},
   "outputs": [
    {
     "name": "stderr",
     "output_type": "stream",
     "text": [
      "Matplotlib is building the font cache; this may take a moment.\n"
     ]
    },
    {
     "data": {
      "text/plain": [
       "<matplotlib.image.AxesImage at 0x1320b1d90>"
      ]
     },
     "execution_count": 2,
     "metadata": {},
     "output_type": "execute_result"
    },
    {
     "data": {
      "image/png": "[encoded data removed]",
      "text/plain": [
       "<Figure size 640x480 with 1 Axes>"
      ]
     },
     "metadata": {},
     "output_type": "display_data"
    }
   ],
   "source": [
    "\n",
    "## 根据灰度值矩阵，使用 Matplotlib 把字符对应的灰度图像绘制出来。\n",
    "\n",
    "from matplotlib import pyplot as plt\n",
    "\n",
    "%matplotlib inline\n",
    "\n",
    "image1 = digits.images[0]\n",
    "plt.imshow(image1, cmap=plt.cm.gray_r)"
   ]
  },
  {
   "cell_type": "code",
   "execution_count": 13,
   "id": "dbfafe02",
   "metadata": {},
   "outputs": [
    {
     "data": {
      "image/png": "[encoded data removed]",
      "text/plain": [
       "<Figure size 1200x400 with 15 Axes>"
      ]
     },
     "metadata": {},
     "output_type": "display_data"
    }
   ],
   "source": [
    "## 使用 1x5 的子图样式绘制 Digits 数据集前 15 个手写字符的图像。\n",
    "### 代码开始 ### (3～5 行代码)\n",
    "fig, axes = plt.subplots(1, 15, figsize=(12,4))\n",
    "for i, image in enumerate(digits.images[:15]):\n",
    "    axes[i].imshow(image, cmap=plt.cm.gray_r)\n",
    "### 代码结束 ###"
   ]
  },
  {
   "cell_type": "code",
   "execution_count": 7,
   "id": "a05baa96",
   "metadata": {},
   "outputs": [
    {
     "data": {
      "text/plain": [
       "(1437, 1437, 360, 360, 3.75)"
      ]
     },
     "execution_count": 7,
     "metadata": {},
     "output_type": "execute_result"
    }
   ],
   "source": [
    "## 使用 train_test_split() 将数据集切分为 80%（训练集） 和 20%（测试集） 两部分。\n",
    "\n",
    "## 规定：训练集特征，训练集目标，测试集特征，测试集目标分别定义为：X_train, y_train, X_test, y_test，随机数种子定为 30。\n",
    "### 代码开始 ### (≈ 2 行代码)\n",
    "from sklearn.model_selection import train_test_split\n",
    "\n",
    "X_train, X_test, y_train, y_test = train_test_split(digits.data, digits.target, test_size=0.2, random_state=30)\n",
    "### 代码结束 ###\n",
    "\n",
    "len(X_train), len(y_train), len(X_test), len(y_test), np.mean(y_test[5:13])"
   ]
  },
  {
   "cell_type": "markdown",
   "id": "0b266abc",
   "metadata": {},
   "source": [
    "# 使用 scikit-learn 搭建人工神经网络\n",
    "\n",
    "scikit-learn 中的 MLPClassifier() 类实现了具有反向传播算法的多层神经网络结构。\n",
    "\n",
    "\n",
    "- hidden_layer_sizes: 定义隐含层及包含的神经元数量，(20, 20) 代表 2 个隐含层各有 20 个神经元。\n",
    "- activation: 激活函数，有 identity（线性）, logistic, tanh, relu 可选。\n",
    "- solver: 求解方法，有 lbfgs（拟牛顿法），sgd（随机梯度下降），adam（改进型 sgd） 可选。adam 在相对较大的数据集上效果比较好（上千个样本），对小数据集而言，lbfgs 收敛更快效果也很好。 \n",
    "- alpha: 正则化项参数。\n",
    "- learning_rate: 学习率调整策略，constant（不变），invscaling（逐步减小），adaptive（自适应） 可选。\n",
    "- learning_rate_init: 初始学习率，用于随机梯度下降时更新权重。\n",
    "- max_iter: 最大迭代次数。\n",
    "- shuffle: 决定每次迭代是否重新打乱样本。\n",
    "- random_state: 随机数种子。\n",
    "- tol: 优化求解的容忍度，当两次迭代损失差值小于该容忍度时，模型认为达到收敛并且训练停止。"
   ]
  },
  {
   "cell_type": "markdown",
   "id": "6712b7a1",
   "metadata": {},
   "source": [
    "挑战：使用 `MLPClassifier()` 搭建神经网络结构，并训练手写字符识别模型，最后得到在测试集上的预测准确率。\n",
    "\n",
    "规定：\n",
    "\n",
    "神经网络结构包含 2 个隐含层，依次有 100 和 50 个神经元。\n",
    "\n",
    "使用 relu 作为激活函数。\n",
    "\n",
    "使用随机梯度下降 SGD 方法求解。\n",
    "\n",
    "学习率为 0.02 且在学习过程中保持不变。\n",
    "\n",
    "最大迭代次数为 100 次。\n",
    "\n",
    "随机数种子设为 1。\n",
    "\n",
    "其余参数使用默认值。"
   ]
  },
  {
   "cell_type": "code",
   "execution_count": 10,
   "id": "f5a73464",
   "metadata": {},
   "outputs": [
    {
     "data": {
      "text/plain": [
       "0.9777777777777777"
      ]
     },
     "execution_count": 10,
     "metadata": {},
     "output_type": "execute_result"
    }
   ],
   "source": [
    "from sklearn.neural_network import MLPClassifier\n",
    "from sklearn.metrics import accuracy_score\n",
    "\n",
    "def mpl():\n",
    "    \"\"\"\n",
    "    参数:无\n",
    "\n",
    "    返回:\n",
    "    model -- 人工神经网络模型\n",
    "    score -- 测试集上的预测准确率\n",
    "    \"\"\"\n",
    "    ### 代码开始 ### (≈ 2 行代码)\n",
    "    model = MLPClassifier(\n",
    "        hidden_layer_sizes=(100, 50),\n",
    "        activation='relu',\n",
    "        solver='sgd',\n",
    "        learning_rate_init=0.02,\n",
    "        learning_rate='constant',\n",
    "        max_iter=100,\n",
    "        random_state=1\n",
    "    )\n",
    "\n",
    "    model.fit(X_train, y_train)\n",
    "    score = accuracy_score(y_test, model.predict(X_test))\n",
    "    ### 代码结束 ###\n",
    "    return model, score\n",
    "\n",
    "\n",
    "# 预测准确率\n",
    "mpl()[1]\n",
    "\n",
    "\n"
   ]
  },
  {
   "cell_type": "code",
   "execution_count": 11,
   "id": "a7b533bc",
   "metadata": {},
   "outputs": [
    {
     "data": {
      "text/plain": [
       "61"
      ]
     },
     "execution_count": 11,
     "metadata": {},
     "output_type": "execute_result"
    },
    {
     "data": {
      "image/png": "[encoded data removed]",
      "text/plain": [
       "<Figure size 640x480 with 1 Axes>"
      ]
     },
     "metadata": {},
     "output_type": "display_data"
    }
   ],
   "source": [
    "# 绘制损失变化曲线\n",
    "model = mpl()[0]\n",
    "plt.plot(model.loss_curve_)\n",
    "\n",
    "# 输出模型达到收敛的迭代次数\n",
    "model.n_iter_"
   ]
  },
  {
   "cell_type": "code",
   "execution_count": null,
   "id": "9ff51267",
   "metadata": {},
   "outputs": [],
   "source": []
  }
 ],
 "metadata": {
  "kernelspec": {
   "display_name": "Python 3.12",
   "language": "python",
   "name": "py3.12"
  },
  "language_info": {
   "codemirror_mode": {
    "name": "ipython",
    "version": 3
   },
   "file_extension": ".py",
   "mimetype": "text/x-python",
   "name": "python",
   "nbconvert_exporter": "python",
   "pygments_lexer": "ipython3",
   "version": "3.12.3"
  }
 },
 "nbformat": 4,
 "nbformat_minor": 5
}
